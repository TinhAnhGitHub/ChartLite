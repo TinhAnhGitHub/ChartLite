{
 "cells": [
  {
   "cell_type": "code",
   "execution_count": 2,
   "id": "fece03f7",
   "metadata": {},
   "outputs": [],
   "source": [
    "import pandas as pd\n",
    "import glob"
   ]
  },
  {
   "cell_type": "code",
   "execution_count": 3,
   "id": "959cdda1",
   "metadata": {},
   "outputs": [],
   "source": [
    "files = glob.glob(\n",
    "    '../downsampled_cleaned_chartQa_plotQa_colored/data/train-*.parquet'\n",
    ")"
   ]
  },
  {
   "cell_type": "code",
   "execution_count": 5,
   "id": "704c59a0",
   "metadata": {},
   "outputs": [
    {
     "data": {
      "text/plain": [
       "146557"
      ]
     },
     "execution_count": 5,
     "metadata": {},
     "output_type": "execute_result"
    }
   ],
   "source": [
    "total_rows = 0\n",
    "\n",
    "for f in files:\n",
    "    df = pd.read_parquet(f)\n",
    "    total_rows += len(df)\n",
    "total_rows"
   ]
  },
  {
   "cell_type": "code",
   "execution_count": 4,
   "id": "167313a4",
   "metadata": {},
   "outputs": [],
   "source": [
    "path_ = \"/home/tinhanhnguyen/Zotero/storage\"\n",
    "\n",
    "import glob\n",
    "import os\n",
    "import shutil"
   ]
  },
  {
   "cell_type": "code",
   "execution_count": 5,
   "id": "35ddd321",
   "metadata": {},
   "outputs": [],
   "source": [
    "files = glob.glob(path_ + '/**/*.pdf')\n",
    "destination_path = \"/home/tinhanhnguyen/Downloads/ref\""
   ]
  },
  {
   "cell_type": "code",
   "execution_count": 6,
   "id": "b58ba1d1",
   "metadata": {},
   "outputs": [],
   "source": [
    "for file in files:\n",
    "    shutil.copy(file, destination_path)"
   ]
  },
  {
   "cell_type": "code",
   "execution_count": null,
   "id": "5e772e6b",
   "metadata": {},
   "outputs": [],
   "source": []
  }
 ],
 "metadata": {
  "kernelspec": {
   "display_name": "matcha_env",
   "language": "python",
   "name": "python3"
  },
  "language_info": {
   "codemirror_mode": {
    "name": "ipython",
    "version": 3
   },
   "file_extension": ".py",
   "mimetype": "text/x-python",
   "name": "python",
   "nbconvert_exporter": "python",
   "pygments_lexer": "ipython3",
   "version": "3.11.8"
  }
 },
 "nbformat": 4,
 "nbformat_minor": 5
}
